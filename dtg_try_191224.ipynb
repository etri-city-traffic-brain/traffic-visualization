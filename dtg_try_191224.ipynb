{
 "cells": [
  {
   "cell_type": "code",
   "execution_count": 11,
   "id": "a914edae",
   "metadata": {
    "scrolled": true
   },
   "outputs": [
    {
     "name": "stdout",
     "output_type": "stream",
     "text": [
      "\n",
      "MovingPandas 0.9.rc2\n",
      "\n",
      "SYSTEM INFO\n",
      "-----------\n",
      "python     : 3.9.9 | packaged by conda-forge | (main, Dec 20 2021, 02:40:17)  [GCC 9.4.0]\n",
      "executable : /home/dy/anaconda3/envs/mp/bin/python\n",
      "machine    : Linux-5.8.0-44-generic-x86_64-with-glibc2.31\n",
      "\n",
      "GEOS, GDAL, PROJ INFO\n",
      "---------------------\n",
      "GEOS       : 3.10.1\n",
      "GEOS lib   : /home/dy/anaconda3/envs/mp/lib/libgeos_c.so\n",
      "GDAL       : 3.4.1\n",
      "GDAL data dir: /home/dy/anaconda3/envs/mp/share/gdal\n",
      "PROJ       : 8.2.1\n",
      "PROJ data dir: /home/dy/anaconda3/envs/mp/share/proj\n",
      "\n",
      "PYTHON DEPENDENCIES\n",
      "-------------------\n",
      "geopandas  : 0.10.2\n",
      "pandas     : 1.3.5\n",
      "fiona      : 1.8.20\n",
      "numpy      : 1.21.5\n",
      "shapely    : 1.8.0\n",
      "rtree      : 0.9.7\n",
      "pyproj     : 3.3.0\n",
      "matplotlib : 3.5.1\n",
      "mapclassify: 2.4.3\n",
      "geopy      : 2.2.0\n",
      "holoviews  : 1.14.7\n",
      "hvplot     : 0.7.3\n",
      "geoviews   : 1.9.3\n"
     ]
    }
   ],
   "source": [
    "import pandas as pd\n",
    "import geopandas as gpd\n",
    "from geopandas import GeoDataFrame, read_file\n",
    "from shapely.geometry import Point, LineString, Polygon\n",
    "from datetime import datetime, timedelta\n",
    "from holoviews import opts, dim\n",
    "import movingpandas as mpd\n",
    "from geographiclib.geodesic import Geodesic\n",
    "import warnings\n",
    "warnings.filterwarnings('ignore')\n",
    "\n",
    "import osmnx as ox\n",
    "import networkx as nx\n",
    "import plotly.graph_objects as go\n",
    "import plotly.express as px\n",
    "from datetime import datetime, timedelta\n",
    "\n",
    "mpd.show_versions()"
   ]
  },
  {
   "cell_type": "code",
   "execution_count": 12,
   "id": "2a9ce9e4",
   "metadata": {},
   "outputs": [],
   "source": [
    "FSIZE = 500"
   ]
  },
  {
   "cell_type": "code",
   "execution_count": 13,
   "id": "36e0eabc",
   "metadata": {},
   "outputs": [
    {
     "data": {
      "text/plain": [
       "<bound method NDFrame.head of               timestamp   vehicleid   latitude   longitude   speed\n",
       "0        20191224000915         228  36.357918  127.370253      80\n",
       "1        20191224000916         228  36.357918  127.370001      79\n",
       "2        20191224000917         228  36.357920  127.369756      78\n",
       "3        20191224000918         228  36.357920  127.369513      77\n",
       "4        20191224000919         228  36.357916  127.369275      75\n",
       "...                 ...         ...        ...         ...     ...\n",
       "7932695  20191224091611         457  36.334336  127.370043      29\n",
       "7932696  20191224091612         457  36.334321  127.370130      28\n",
       "7932697  20191224091613         457  36.334305  127.370215      28\n",
       "7932698  20191224091614         457  36.334286  127.370298      27\n",
       "7932699  20191224091615         457  36.334266  127.370380      25\n",
       "\n",
       "[7932700 rows x 5 columns]>"
      ]
     },
     "execution_count": 13,
     "metadata": {},
     "output_type": "execute_result"
    }
   ],
   "source": [
    "# filepath\n",
    "fp = pd.read_csv('data/dtg_20191224.csv')\n",
    "fp.head"
   ]
  },
  {
   "cell_type": "code",
   "execution_count": 14,
   "id": "03ab2ac0",
   "metadata": {},
   "outputs": [],
   "source": [
    "fp.timestamp = fp.timestamp.astype(str)"
   ]
  },
  {
   "cell_type": "code",
   "execution_count": 15,
   "id": "ab913cf8",
   "metadata": {},
   "outputs": [],
   "source": [
    "fp['timestamp'] = pd.to_datetime(fp['timestamp'], format=\"%Y%m%d%H%M%S\")"
   ]
  },
  {
   "cell_type": "code",
   "execution_count": 16,
   "id": "3149d96f",
   "metadata": {},
   "outputs": [],
   "source": [
    "fp.columns = ['t', 'trajectory_id', 'y', 'x', 'speed']"
   ]
  },
  {
   "cell_type": "code",
   "execution_count": 17,
   "id": "952d336b",
   "metadata": {},
   "outputs": [
    {
     "data": {
      "text/html": [
       "<div>\n",
       "<style scoped>\n",
       "    .dataframe tbody tr th:only-of-type {\n",
       "        vertical-align: middle;\n",
       "    }\n",
       "\n",
       "    .dataframe tbody tr th {\n",
       "        vertical-align: top;\n",
       "    }\n",
       "\n",
       "    .dataframe thead th {\n",
       "        text-align: right;\n",
       "    }\n",
       "</style>\n",
       "<table border=\"1\" class=\"dataframe\">\n",
       "  <thead>\n",
       "    <tr style=\"text-align: right;\">\n",
       "      <th></th>\n",
       "      <th>t</th>\n",
       "      <th>trajectory_id</th>\n",
       "      <th>y</th>\n",
       "      <th>x</th>\n",
       "      <th>speed</th>\n",
       "    </tr>\n",
       "  </thead>\n",
       "  <tbody>\n",
       "    <tr>\n",
       "      <th>0</th>\n",
       "      <td>2019-12-24 00:09:15</td>\n",
       "      <td>228</td>\n",
       "      <td>36.357918</td>\n",
       "      <td>127.370253</td>\n",
       "      <td>80</td>\n",
       "    </tr>\n",
       "    <tr>\n",
       "      <th>1</th>\n",
       "      <td>2019-12-24 00:09:16</td>\n",
       "      <td>228</td>\n",
       "      <td>36.357918</td>\n",
       "      <td>127.370001</td>\n",
       "      <td>79</td>\n",
       "    </tr>\n",
       "    <tr>\n",
       "      <th>2</th>\n",
       "      <td>2019-12-24 00:09:17</td>\n",
       "      <td>228</td>\n",
       "      <td>36.357920</td>\n",
       "      <td>127.369756</td>\n",
       "      <td>78</td>\n",
       "    </tr>\n",
       "    <tr>\n",
       "      <th>3</th>\n",
       "      <td>2019-12-24 00:09:18</td>\n",
       "      <td>228</td>\n",
       "      <td>36.357920</td>\n",
       "      <td>127.369513</td>\n",
       "      <td>77</td>\n",
       "    </tr>\n",
       "    <tr>\n",
       "      <th>4</th>\n",
       "      <td>2019-12-24 00:09:19</td>\n",
       "      <td>228</td>\n",
       "      <td>36.357916</td>\n",
       "      <td>127.369275</td>\n",
       "      <td>75</td>\n",
       "    </tr>\n",
       "  </tbody>\n",
       "</table>\n",
       "</div>"
      ],
      "text/plain": [
       "                    t  trajectory_id          y           x  speed\n",
       "0 2019-12-24 00:09:15            228  36.357918  127.370253     80\n",
       "1 2019-12-24 00:09:16            228  36.357918  127.370001     79\n",
       "2 2019-12-24 00:09:17            228  36.357920  127.369756     78\n",
       "3 2019-12-24 00:09:18            228  36.357920  127.369513     77\n",
       "4 2019-12-24 00:09:19            228  36.357916  127.369275     75"
      ]
     },
     "execution_count": 17,
     "metadata": {},
     "output_type": "execute_result"
    }
   ],
   "source": [
    "fp.head()"
   ]
  },
  {
   "cell_type": "code",
   "execution_count": 18,
   "id": "390ba891",
   "metadata": {},
   "outputs": [],
   "source": [
    "fp0001 = fp[(fp['t']>'2019-12-24 00:00:00') & (fp['t']<'2019-12-24 01:00:00')]\n",
    "fp0102 = fp[(fp['t']>'2019-12-24 01:00:00') & (fp['t']<'2019-12-24 02:00:00')]\n",
    "fp0203 = fp[(fp['t']>'2019-12-24 02:00:00') & (fp['t']<'2019-12-24 03:00:00')]\n",
    "fp0304 = fp[(fp['t']>'2019-12-24 03:00:00') & (fp['t']<'2019-12-24 04:00:00')]\n",
    "fp0405 = fp[(fp['t']>'2019-12-24 04:00:00') & (fp['t']<'2019-12-24 05:00:00')]\n",
    "fp0506 = fp[(fp['t']>'2019-12-24 05:00:00') & (fp['t']<'2019-12-24 06:00:00')]\n",
    "fp0607 = fp[(fp['t']>'2019-12-24 06:00:00') & (fp['t']<'2019-12-24 07:00:00')]\n",
    "fp0708 = fp[(fp['t']>'2019-12-24 07:00:00') & (fp['t']<'2019-12-24 08:00:00')]\n",
    "fp0809 = fp[(fp['t']>'2019-12-24 08:00:00') & (fp['t']<'2019-12-24 09:00:00')]\n",
    "fp0910 = fp[(fp['t']>'2019-12-24 09:00:00') & (fp['t']<'2019-12-24 10:00:00')]\n",
    "fp1011 = fp[(fp['t']>'2019-12-24 10:00:00') & (fp['t']<'2019-12-24 11:00:00')]\n",
    "fp1112 = fp[(fp['t']>'2019-12-24 11:00:00') & (fp['t']<'2019-12-24 12:00:00')]\n",
    "fp1213 = fp[(fp['t']>'2019-12-24 12:00:00') & (fp['t']<'2019-12-24 13:00:00')]\n",
    "fp1314 = fp[(fp['t']>'2019-12-24 13:00:00') & (fp['t']<'2019-12-24 14:00:00')]\n",
    "fp1415 = fp[(fp['t']>'2019-12-24 14:00:00') & (fp['t']<'2019-12-24 15:00:00')]\n",
    "fp1516 = fp[(fp['t']>'2019-12-24 15:00:00') & (fp['t']<'2019-12-24 16:00:00')]\n",
    "fp1617 = fp[(fp['t']>'2019-12-24 16:00:00') & (fp['t']<'2019-12-24 17:00:00')]\n",
    "fp1718 = fp[(fp['t']>'2019-12-24 17:00:00') & (fp['t']<'2019-12-24 18:00:00')]\n",
    "fp1819 = fp[(fp['t']>'2019-12-24 18:00:00') & (fp['t']<'2019-12-24 19:00:00')]\n",
    "fp1920 = fp[(fp['t']>'2019-12-24 19:00:00') & (fp['t']<'2019-12-24 20:00:00')]\n",
    "fp2021 = fp[(fp['t']>'2019-12-24 20:00:00') & (fp['t']<'2019-12-24 21:00:00')]\n",
    "fp2122 = fp[(fp['t']>'2019-12-24 21:00:00') & (fp['t']<'2019-12-24 22:00:00')]\n",
    "fp2223 = fp[(fp['t']>'2019-12-24 22:00:00') & (fp['t']<'2019-12-24 23:00:00')]\n",
    "fp2324 = fp[(fp['t']>'2019-12-24 23:00:00') & (fp['t']<'2019-12-24 23:59:59')]\n",
    "\n",
    "fp_all = fp[(fp['t']>'2019-12-24 00:00:00') & (fp['t']<'2019-12-24 23:59:59')]"
   ]
  },
  {
   "cell_type": "code",
   "execution_count": 19,
   "id": "332f8a38",
   "metadata": {},
   "outputs": [],
   "source": [
    "traj_collection_0001 = mpd.TrajectoryCollection(fp0001, 'trajectory_id',t='t', x='x', y='y')\n",
    "traj_collection_0102 = mpd.TrajectoryCollection(fp0102, 'trajectory_id',t='t', x='x', y='y')\n",
    "traj_collection_0203 = mpd.TrajectoryCollection(fp0203, 'trajectory_id',t='t', x='x', y='y')\n",
    "traj_collection_0304 = mpd.TrajectoryCollection(fp0304, 'trajectory_id',t='t', x='x', y='y')\n",
    "traj_collection_0405 = mpd.TrajectoryCollection(fp0405, 'trajectory_id',t='t', x='x', y='y')\n",
    "traj_collection_0506 = mpd.TrajectoryCollection(fp0506, 'trajectory_id',t='t', x='x', y='y')\n",
    "traj_collection_0607 = mpd.TrajectoryCollection(fp0607, 'trajectory_id',t='t', x='x', y='y')\n",
    "traj_collection_0708 = mpd.TrajectoryCollection(fp0708, 'trajectory_id',t='t', x='x', y='y')\n",
    "traj_collection_0809 = mpd.TrajectoryCollection(fp0809, 'trajectory_id',t='t', x='x', y='y')\n",
    "traj_collection_0910 = mpd.TrajectoryCollection(fp0910, 'trajectory_id',t='t', x='x', y='y')\n",
    "traj_collection_1011 = mpd.TrajectoryCollection(fp1011, 'trajectory_id',t='t', x='x', y='y')\n",
    "traj_collection_1112 = mpd.TrajectoryCollection(fp1112, 'trajectory_id',t='t', x='x', y='y')\n",
    "\n",
    "traj_collection_1213 = mpd.TrajectoryCollection(fp1213, 'trajectory_id',t='t', x='x', y='y')\n",
    "traj_collection_1314 = mpd.TrajectoryCollection(fp1314, 'trajectory_id',t='t', x='x', y='y')\n",
    "traj_collection_1415 = mpd.TrajectoryCollection(fp1415, 'trajectory_id',t='t', x='x', y='y')\n",
    "traj_collection_1516 = mpd.TrajectoryCollection(fp1516, 'trajectory_id',t='t', x='x', y='y')\n",
    "traj_collection_1617 = mpd.TrajectoryCollection(fp1617, 'trajectory_id',t='t', x='x', y='y')\n",
    "traj_collection_1718 = mpd.TrajectoryCollection(fp1718, 'trajectory_id',t='t', x='x', y='y')\n",
    "traj_collection_1819 = mpd.TrajectoryCollection(fp1819, 'trajectory_id',t='t', x='x', y='y')\n",
    "traj_collection_1920 = mpd.TrajectoryCollection(fp1920, 'trajectory_id',t='t', x='x', y='y')\n",
    "traj_collection_2021 = mpd.TrajectoryCollection(fp2021, 'trajectory_id',t='t', x='x', y='y')\n",
    "traj_collection_2122 = mpd.TrajectoryCollection(fp2122, 'trajectory_id',t='t', x='x', y='y')\n",
    "traj_collection_2223 = mpd.TrajectoryCollection(fp2223, 'trajectory_id',t='t', x='x', y='y')\n",
    "traj_collection_2324 = mpd.TrajectoryCollection(fp2324, 'trajectory_id',t='t', x='x', y='y')\n",
    "traj_collection_all = mpd.TrajectoryCollection(fp_all, 'trajectory_id',t='t', x='x', y='y')"
   ]
  },
  {
   "cell_type": "code",
   "execution_count": null,
   "id": "4098c0f8",
   "metadata": {
    "scrolled": true
   },
   "outputs": [],
   "source": [
    "print(traj_collection_all)"
   ]
  },
  {
   "cell_type": "markdown",
   "id": "70334217",
   "metadata": {},
   "source": [
    "## [DTG] 대전시 차량 흐름도 "
   ]
  },
  {
   "cell_type": "markdown",
   "id": "1bceda63",
   "metadata": {},
   "source": [
    "주행경로 시각화를 확인한 결과, 통행량이 많은 포인트와 구간에 가중치를 부여해 트래픽이 몰리는 지점과 구간을 시각화 하고 싶음."
   ]
  },
  {
   "cell_type": "code",
   "execution_count": null,
   "id": "7c12bddd",
   "metadata": {
    "scrolled": false
   },
   "outputs": [],
   "source": [
    "traj_collection_all.plot(column='trajectory_id', legend=True, figsize=(18,14), alpha=0.7)"
   ]
  },
  {
   "cell_type": "markdown",
   "id": "2f22ad00",
   "metadata": {},
   "source": [
    "#### 거리를 기준으로 일반화 "
   ]
  },
  {
   "cell_type": "code",
   "execution_count": 20,
   "id": "050a0610",
   "metadata": {},
   "outputs": [],
   "source": [
    "generalized_0001 = mpd.MinDistanceGeneralizer(traj_collection_0001).generalize(tolerance=100)\n",
    "generalized_0102 = mpd.MinDistanceGeneralizer(traj_collection_0102).generalize(tolerance=100)\n",
    "generalized_0203 = mpd.MinDistanceGeneralizer(traj_collection_0203).generalize(tolerance=100)\n",
    "generalized_0304 = mpd.MinDistanceGeneralizer(traj_collection_0304).generalize(tolerance=100)\n",
    "generalized_0405 = mpd.MinDistanceGeneralizer(traj_collection_0405).generalize(tolerance=100)\n",
    "generalized_0506 = mpd.MinDistanceGeneralizer(traj_collection_0506).generalize(tolerance=100)\n",
    "generalized_0607 = mpd.MinDistanceGeneralizer(traj_collection_0607).generalize(tolerance=100)\n",
    "generalized_0708 = mpd.MinDistanceGeneralizer(traj_collection_0708).generalize(tolerance=100)\n",
    "generalized_0809 = mpd.MinDistanceGeneralizer(traj_collection_0809).generalize(tolerance=100)\n",
    "generalized_0910 = mpd.MinDistanceGeneralizer(traj_collection_0910).generalize(tolerance=100)\n",
    "generalized_1011 = mpd.MinDistanceGeneralizer(traj_collection_1011).generalize(tolerance=100)\n",
    "generalized_1112 = mpd.MinDistanceGeneralizer(traj_collection_1112).generalize(tolerance=100)\n",
    "\n",
    "generalized_1213 = mpd.MinDistanceGeneralizer(traj_collection_1213).generalize(tolerance=100)\n",
    "generalized_1314 = mpd.MinDistanceGeneralizer(traj_collection_1314).generalize(tolerance=100)\n",
    "generalized_1415 = mpd.MinDistanceGeneralizer(traj_collection_1415).generalize(tolerance=100)\n",
    "generalized_1516 = mpd.MinDistanceGeneralizer(traj_collection_1516).generalize(tolerance=100)\n",
    "generalized_1617 = mpd.MinDistanceGeneralizer(traj_collection_1617).generalize(tolerance=100)\n",
    "generalized_1718 = mpd.MinDistanceGeneralizer(traj_collection_1718).generalize(tolerance=100)\n",
    "generalized_1819 = mpd.MinDistanceGeneralizer(traj_collection_1819).generalize(tolerance=100)\n",
    "generalized_1920 = mpd.MinDistanceGeneralizer(traj_collection_1920).generalize(tolerance=100)\n",
    "generalized_2021 = mpd.MinDistanceGeneralizer(traj_collection_2021).generalize(tolerance=100)\n",
    "generalized_2122 = mpd.MinDistanceGeneralizer(traj_collection_2122).generalize(tolerance=100)\n",
    "generalized_2223 = mpd.MinDistanceGeneralizer(traj_collection_2223).generalize(tolerance=100)\n",
    "generalized_2324 = mpd.MinDistanceGeneralizer(traj_collection_2324).generalize(tolerance=100)"
   ]
  },
  {
   "cell_type": "code",
   "execution_count": null,
   "id": "3c131873",
   "metadata": {},
   "outputs": [],
   "source": [
    "print(generalized_0910)\n",
    "print(generalized_1819)"
   ]
  },
  {
   "cell_type": "code",
   "execution_count": null,
   "id": "3e9bc5b0",
   "metadata": {},
   "outputs": [],
   "source": [
    "# 시간을 기준으로 일반화 \n",
    "# generalized_0001 = mpd.MinTimeDeltaGeneralizer(traj_collection_0001).generalize(tolerance=timedelta(minutes=10))\n",
    "# generalized_0001"
   ]
  },
  {
   "cell_type": "markdown",
   "id": "55e2e5be",
   "metadata": {},
   "source": [
    "#### "
   ]
  },
  {
   "cell_type": "code",
   "execution_count": 21,
   "id": "91297a95",
   "metadata": {},
   "outputs": [],
   "source": [
    "aggregator_0001 = mpd.TrajectoryCollectionAggregator(generalized_0001, min_distance=10, max_distance=500, min_stop_duration=timedelta(minutes=10))\n",
    "aggregator_0102 = mpd.TrajectoryCollectionAggregator(generalized_0102, min_distance=10, max_distance=500, min_stop_duration=timedelta(minutes=10))\n",
    "aggregator_0203 = mpd.TrajectoryCollectionAggregator(generalized_0203, min_distance=10, max_distance=500, min_stop_duration=timedelta(minutes=10))\n",
    "aggregator_0304 = mpd.TrajectoryCollectionAggregator(generalized_0304, min_distance=10, max_distance=500, min_stop_duration=timedelta(minutes=10))\n",
    "aggregator_0405 = mpd.TrajectoryCollectionAggregator(generalized_0405, min_distance=10, max_distance=500, min_stop_duration=timedelta(minutes=10))\n",
    "aggregator_0506 = mpd.TrajectoryCollectionAggregator(generalized_0506, min_distance=10, max_distance=500, min_stop_duration=timedelta(minutes=10))\n",
    "aggregator_0607 = mpd.TrajectoryCollectionAggregator(generalized_0607, min_distance=10, max_distance=500, min_stop_duration=timedelta(minutes=10))\n",
    "aggregator_0708 = mpd.TrajectoryCollectionAggregator(generalized_0708, min_distance=10, max_distance=500, min_stop_duration=timedelta(minutes=10))\n",
    "aggregator_0809 = mpd.TrajectoryCollectionAggregator(generalized_0809, min_distance=10, max_distance=500, min_stop_duration=timedelta(minutes=10))\n",
    "aggregator_0910 = mpd.TrajectoryCollectionAggregator(generalized_0910, min_distance=10, max_distance=500, min_stop_duration=timedelta(minutes=10))\n",
    "aggregator_1011 = mpd.TrajectoryCollectionAggregator(generalized_1011, min_distance=10, max_distance=500, min_stop_duration=timedelta(minutes=10))\n",
    "aggregator_1112 = mpd.TrajectoryCollectionAggregator(generalized_1112, min_distance=10, max_distance=500, min_stop_duration=timedelta(minutes=10))\n",
    "\n",
    "aggregator_1213 = mpd.TrajectoryCollectionAggregator(generalized_1213, min_distance=10, max_distance=500, min_stop_duration=timedelta(minutes=10))\n",
    "aggregator_1314 = mpd.TrajectoryCollectionAggregator(generalized_1314, min_distance=10, max_distance=500, min_stop_duration=timedelta(minutes=10))\n",
    "aggregator_1415 = mpd.TrajectoryCollectionAggregator(generalized_1415, min_distance=10, max_distance=500, min_stop_duration=timedelta(minutes=10))\n",
    "aggregator_1516 = mpd.TrajectoryCollectionAggregator(generalized_1516, min_distance=10, max_distance=500, min_stop_duration=timedelta(minutes=10))\n",
    "aggregator_1617 = mpd.TrajectoryCollectionAggregator(generalized_1617, min_distance=10, max_distance=500, min_stop_duration=timedelta(minutes=10))\n",
    "aggregator_1718 = mpd.TrajectoryCollectionAggregator(generalized_1718, min_distance=10, max_distance=500, min_stop_duration=timedelta(minutes=10))\n",
    "aggregator_1819 = mpd.TrajectoryCollectionAggregator(generalized_1819, min_distance=10, max_distance=500, min_stop_duration=timedelta(minutes=10))\n",
    "aggregator_1920 = mpd.TrajectoryCollectionAggregator(generalized_1920, min_distance=10, max_distance=500, min_stop_duration=timedelta(minutes=10))\n",
    "aggregator_2021 = mpd.TrajectoryCollectionAggregator(generalized_2021, min_distance=10, max_distance=500, min_stop_duration=timedelta(minutes=10))\n",
    "aggregator_2122 = mpd.TrajectoryCollectionAggregator(generalized_2122, min_distance=10, max_distance=500, min_stop_duration=timedelta(minutes=10))\n",
    "aggregator_2223 = mpd.TrajectoryCollectionAggregator(generalized_2223, min_distance=10, max_distance=500, min_stop_duration=timedelta(minutes=10))\n",
    "aggregator_2324 = mpd.TrajectoryCollectionAggregator(generalized_2324, min_distance=10, max_distance=500, min_stop_duration=timedelta(minutes=10))"
   ]
  },
  {
   "cell_type": "code",
   "execution_count": null,
   "id": "a5054ede",
   "metadata": {},
   "outputs": [],
   "source": [
    "print(aggregator_0910)\n",
    "print(aggregator_1819)"
   ]
  },
  {
   "cell_type": "code",
   "execution_count": 22,
   "id": "3559281c",
   "metadata": {
    "scrolled": true
   },
   "outputs": [],
   "source": [
    "pts_0001 = aggregator_0001.get_significant_points_gdf()\n",
    "pts_0102 = aggregator_0102.get_significant_points_gdf()\n",
    "pts_0203 = aggregator_0203.get_significant_points_gdf()\n",
    "pts_0304 = aggregator_0304.get_significant_points_gdf()\n",
    "pts_0405 = aggregator_0405.get_significant_points_gdf()\n",
    "pts_0506 = aggregator_0506.get_significant_points_gdf()\n",
    "pts_0607 = aggregator_0607.get_significant_points_gdf()\n",
    "pts_0708 = aggregator_0708.get_significant_points_gdf()\n",
    "pts_0809 = aggregator_0809.get_significant_points_gdf()\n",
    "pts_0910 = aggregator_0910.get_significant_points_gdf()\n",
    "pts_1011 = aggregator_1011.get_significant_points_gdf()\n",
    "pts_1112 = aggregator_1112.get_significant_points_gdf()\n",
    "\n",
    "pts_1213 = aggregator_1213.get_significant_points_gdf()\n",
    "pts_1314 = aggregator_1314.get_significant_points_gdf()\n",
    "pts_1415 = aggregator_1415.get_significant_points_gdf()\n",
    "pts_1516 = aggregator_1516.get_significant_points_gdf()\n",
    "pts_1617 = aggregator_1617.get_significant_points_gdf()\n",
    "pts_1718 = aggregator_1718.get_significant_points_gdf()\n",
    "pts_1819 = aggregator_1819.get_significant_points_gdf()\n",
    "pts_1920 = aggregator_1920.get_significant_points_gdf()\n",
    "pts_2021 = aggregator_2021.get_significant_points_gdf()\n",
    "pts_2122 = aggregator_2122.get_significant_points_gdf()\n",
    "pts_2223 = aggregator_2223.get_significant_points_gdf()\n",
    "pts_2324 = aggregator_2324.get_significant_points_gdf()"
   ]
  },
  {
   "cell_type": "code",
   "execution_count": null,
   "id": "f567cc5f",
   "metadata": {},
   "outputs": [],
   "source": [
    "print(pts_0910)\n",
    "print(pts_1819)"
   ]
  },
  {
   "cell_type": "markdown",
   "id": "8af4327d",
   "metadata": {},
   "source": [
    "### cluster"
   ]
  },
  {
   "cell_type": "markdown",
   "id": "31294277",
   "metadata": {},
   "source": [
    "다중 교차하는 지점에 대한 clustering"
   ]
  },
  {
   "cell_type": "code",
   "execution_count": 23,
   "id": "9bbd062c",
   "metadata": {
    "scrolled": true
   },
   "outputs": [
    {
     "name": "stdout",
     "output_type": "stream",
     "text": [
      "                      geometry    n\n",
      "0   POINT (127.36954 36.35269)  321\n",
      "1   POINT (127.36869 36.33451)   92\n",
      "2   POINT (127.35709 36.33253)   94\n",
      "3   POINT (127.34927 36.33243)  149\n",
      "4   POINT (127.34547 36.33218)   48\n",
      "..                         ...  ...\n",
      "60  POINT (127.33834 36.32934)   29\n",
      "61  POINT (127.35850 36.36453)   75\n",
      "62  POINT (127.36822 36.36257)   70\n",
      "63  POINT (127.33291 36.32876)    5\n",
      "64  POINT (127.36465 36.34505)   10\n",
      "\n",
      "[65 rows x 2 columns]\n",
      "                      geometry    n\n",
      "0   POINT (127.32793 36.36741)    0\n",
      "1   POINT (127.36925 36.35801)  203\n",
      "2   POINT (127.33384 36.36587)   71\n",
      "3   POINT (127.33758 36.36330)  178\n",
      "4   POINT (127.34071 36.36164)   76\n",
      "..                         ...  ...\n",
      "58  POINT (127.31807 36.35492)    1\n",
      "59  POINT (127.32475 36.35280)    3\n",
      "60  POINT (127.32935 36.35943)   28\n",
      "61  POINT (127.32531 36.35955)   60\n",
      "62  POINT (127.36790 36.33023)    1\n",
      "\n",
      "[63 rows x 2 columns]\n"
     ]
    }
   ],
   "source": [
    "clusters_0001 = aggregator_0001.get_clusters_gdf()\n",
    "clusters_0102 = aggregator_0102.get_clusters_gdf()\n",
    "clusters_0203 = aggregator_0203.get_clusters_gdf()\n",
    "clusters_0304 = aggregator_0304.get_clusters_gdf()\n",
    "clusters_0405 = aggregator_0405.get_clusters_gdf()\n",
    "clusters_0506 = aggregator_0506.get_clusters_gdf()\n",
    "clusters_0607 = aggregator_0607.get_clusters_gdf()\n",
    "clusters_0708 = aggregator_0708.get_clusters_gdf()\n",
    "clusters_0809 = aggregator_0809.get_clusters_gdf()\n",
    "clusters_0910 = aggregator_0910.get_clusters_gdf()\n",
    "clusters_1011 = aggregator_1011.get_clusters_gdf()\n",
    "clusters_1112 = aggregator_1112.get_clusters_gdf()\n",
    "\n",
    "clusters_1213 = aggregator_1213.get_clusters_gdf()\n",
    "clusters_1314 = aggregator_1314.get_clusters_gdf()\n",
    "clusters_1415 = aggregator_1415.get_clusters_gdf()\n",
    "clusters_1516 = aggregator_1516.get_clusters_gdf()\n",
    "clusters_1617 = aggregator_1617.get_clusters_gdf()\n",
    "clusters_1718 = aggregator_1718.get_clusters_gdf()\n",
    "clusters_1819 = aggregator_1819.get_clusters_gdf()\n",
    "clusters_1920 = aggregator_1920.get_clusters_gdf()\n",
    "clusters_2021 = aggregator_2021.get_clusters_gdf()\n",
    "clusters_2122 = aggregator_2122.get_clusters_gdf()\n",
    "clusters_2223 = aggregator_2223.get_clusters_gdf()\n",
    "clusters_2324 = aggregator_2324.get_clusters_gdf()\n",
    "\n",
    "print(clusters_0910)\n",
    "print(clusters_1819)"
   ]
  },
  {
   "cell_type": "code",
   "execution_count": 24,
   "id": "3ce82baa",
   "metadata": {},
   "outputs": [],
   "source": [
    "clusters = pd.concat([clusters_0001, clusters_0102, clusters_0203, clusters_0304, clusters_0405, clusters_0506, clusters_0607,\n",
    "                     clusters_0708, clusters_0809, clusters_0910, clusters_1011, clusters_1112, clusters_1213, clusters_1314, \n",
    "                     clusters_1415, clusters_1516, clusters_1617, clusters_1718, clusters_1819, clusters_1920, clusters_2021, \n",
    "                     clusters_2122, clusters_2223, clusters_2324])"
   ]
  },
  {
   "cell_type": "code",
   "execution_count": 25,
   "id": "3827d7e9",
   "metadata": {},
   "outputs": [
    {
     "data": {
      "text/html": [
       "<div>\n",
       "<style scoped>\n",
       "    .dataframe tbody tr th:only-of-type {\n",
       "        vertical-align: middle;\n",
       "    }\n",
       "\n",
       "    .dataframe tbody tr th {\n",
       "        vertical-align: top;\n",
       "    }\n",
       "\n",
       "    .dataframe thead th {\n",
       "        text-align: right;\n",
       "    }\n",
       "</style>\n",
       "<table border=\"1\" class=\"dataframe\">\n",
       "  <thead>\n",
       "    <tr style=\"text-align: right;\">\n",
       "      <th></th>\n",
       "      <th>geometry</th>\n",
       "      <th>n</th>\n",
       "    </tr>\n",
       "  </thead>\n",
       "  <tbody>\n",
       "    <tr>\n",
       "      <th>0</th>\n",
       "      <td>POINT (127.34352 36.35854)</td>\n",
       "      <td>776</td>\n",
       "    </tr>\n",
       "    <tr>\n",
       "      <th>1</th>\n",
       "      <td>POINT (127.34794 36.32776)</td>\n",
       "      <td>182</td>\n",
       "    </tr>\n",
       "    <tr>\n",
       "      <th>2</th>\n",
       "      <td>POINT (127.33806 36.36370)</td>\n",
       "      <td>1328</td>\n",
       "    </tr>\n",
       "    <tr>\n",
       "      <th>3</th>\n",
       "      <td>POINT (127.33329 36.36604)</td>\n",
       "      <td>687</td>\n",
       "    </tr>\n",
       "    <tr>\n",
       "      <th>4</th>\n",
       "      <td>POINT (127.33936 36.36781)</td>\n",
       "      <td>149</td>\n",
       "    </tr>\n",
       "    <tr>\n",
       "      <th>...</th>\n",
       "      <td>...</td>\n",
       "      <td>...</td>\n",
       "    </tr>\n",
       "    <tr>\n",
       "      <th>52</th>\n",
       "      <td>POINT (127.35756 36.36212)</td>\n",
       "      <td>278</td>\n",
       "    </tr>\n",
       "    <tr>\n",
       "      <th>53</th>\n",
       "      <td>POINT (127.36347 36.33435)</td>\n",
       "      <td>65</td>\n",
       "    </tr>\n",
       "    <tr>\n",
       "      <th>54</th>\n",
       "      <td>POINT (127.34380 36.33940)</td>\n",
       "      <td>69</td>\n",
       "    </tr>\n",
       "    <tr>\n",
       "      <th>55</th>\n",
       "      <td>POINT (127.35787 36.33274)</td>\n",
       "      <td>192</td>\n",
       "    </tr>\n",
       "    <tr>\n",
       "      <th>56</th>\n",
       "      <td>POINT (127.35333 36.36482)</td>\n",
       "      <td>40</td>\n",
       "    </tr>\n",
       "  </tbody>\n",
       "</table>\n",
       "<p>1428 rows × 2 columns</p>\n",
       "</div>"
      ],
      "text/plain": [
       "                      geometry     n\n",
       "0   POINT (127.34352 36.35854)   776\n",
       "1   POINT (127.34794 36.32776)   182\n",
       "2   POINT (127.33806 36.36370)  1328\n",
       "3   POINT (127.33329 36.36604)   687\n",
       "4   POINT (127.33936 36.36781)   149\n",
       "..                         ...   ...\n",
       "52  POINT (127.35756 36.36212)   278\n",
       "53  POINT (127.36347 36.33435)    65\n",
       "54  POINT (127.34380 36.33940)    69\n",
       "55  POINT (127.35787 36.33274)   192\n",
       "56  POINT (127.35333 36.36482)    40\n",
       "\n",
       "[1428 rows x 2 columns]"
      ]
     },
     "execution_count": 25,
     "metadata": {},
     "output_type": "execute_result"
    }
   ],
   "source": [
    "clusters"
   ]
  },
  {
   "cell_type": "code",
   "execution_count": 26,
   "id": "9d4b7ea1",
   "metadata": {},
   "outputs": [],
   "source": [
    "clusters.to_csv('clusters_191224.csv')"
   ]
  },
  {
   "cell_type": "markdown",
   "id": "2ee84e6b",
   "metadata": {},
   "source": [
    "### flow"
   ]
  },
  {
   "cell_type": "markdown",
   "id": "aa3e8f7d",
   "metadata": {},
   "source": [
    "- cluster 구간에 대한 flow(origin -> dest) 생성\n",
    "-  date type merge "
   ]
  },
  {
   "cell_type": "code",
   "execution_count": 27,
   "id": "2311f1c4",
   "metadata": {},
   "outputs": [],
   "source": [
    "# before -> after flows\n",
    "flows_0001 = aggregator_0001.get_flows_gdf()\n",
    "flows_0102 = aggregator_0102.get_flows_gdf()\n",
    "flows_0203 = aggregator_0203.get_flows_gdf()\n",
    "flows_0304 = aggregator_0304.get_flows_gdf()\n",
    "flows_0405 = aggregator_0405.get_flows_gdf()\n",
    "flows_0506 = aggregator_0506.get_flows_gdf()\n",
    "flows_0607 = aggregator_0607.get_flows_gdf()\n",
    "flows_0708 = aggregator_0708.get_flows_gdf()\n",
    "flows_0809 = aggregator_0809.get_flows_gdf()\n",
    "flows_0910 = aggregator_0910.get_flows_gdf()\n",
    "flows_1011 = aggregator_1011.get_flows_gdf()\n",
    "flows_1112 = aggregator_1112.get_flows_gdf()\n",
    "\n",
    "flows_1213 = aggregator_1213.get_flows_gdf()\n",
    "flows_1314 = aggregator_1314.get_flows_gdf()\n",
    "flows_1415 = aggregator_1415.get_flows_gdf()\n",
    "flows_1516 = aggregator_1516.get_flows_gdf()\n",
    "flows_1617 = aggregator_1617.get_flows_gdf()\n",
    "flows_1718 = aggregator_1718.get_flows_gdf()\n",
    "flows_1819 = aggregator_1819.get_flows_gdf()\n",
    "flows_1920 = aggregator_1920.get_flows_gdf()\n",
    "flows_2021 = aggregator_2021.get_flows_gdf()\n",
    "flows_2122 = aggregator_2122.get_flows_gdf()\n",
    "flows_2223 = aggregator_2223.get_flows_gdf()\n",
    "flows_2324 = aggregator_2324.get_flows_gdf()"
   ]
  },
  {
   "cell_type": "code",
   "execution_count": 28,
   "id": "197d5ac1",
   "metadata": {},
   "outputs": [],
   "source": [
    "flows_0001['time'] = '2019-12-24 01:00:00'\n",
    "flows_0102['time'] = '2019-12-24 02:00:00'\n",
    "flows_0203['time'] = '2019-12-24 03:00:00'\n",
    "flows_0304['time'] = '2019-12-24 04:00:00'\n",
    "flows_0405['time'] = '2019-12-24 05:00:00'\n",
    "flows_0506['time'] = '2019-12-24 06:00:00'\n",
    "flows_0607['time'] = '2019-12-24 07:00:00'\n",
    "flows_0708['time'] = '2019-12-24 08:00:00'\n",
    "flows_0809['time'] = '2019-12-24 09:00:00'\n",
    "flows_0910['time'] = '2019-12-24 10:00:00'\n",
    "flows_1011['time'] = '2019-12-24 11:00:00'\n",
    "flows_1112['time'] = '2019-12-24 12:00:00'\n",
    "flows_1213['time'] = '2019-12-24 13:00:00'\n",
    "\n",
    "flows_1314['time'] = '2019-12-24 14:00:00'\n",
    "flows_1415['time'] = '2019-12-24 15:00:00'\n",
    "flows_1516['time'] = '2019-12-24 16:00:00'\n",
    "flows_1617['time'] = '2019-12-24 17:00:00'\n",
    "flows_1718['time'] = '2019-12-24 18:00:00'\n",
    "flows_1819['time'] = '2019-12-24 19:00:00'\n",
    "flows_1920['time'] = '2019-12-24 20:00:00'\n",
    "flows_2021['time'] = '2019-12-24 21:00:00'\n",
    "flows_2122['time'] = '2019-12-24 22:00:00'\n",
    "flows_2223['time'] = '2019-12-24 23:00:00'\n",
    "flows_2324['time'] = '2019-12-24 23:59:59'"
   ]
  },
  {
   "cell_type": "code",
   "execution_count": 29,
   "id": "7113de3b",
   "metadata": {},
   "outputs": [
    {
     "data": {
      "text/html": [
       "<div>\n",
       "<style scoped>\n",
       "    .dataframe tbody tr th:only-of-type {\n",
       "        vertical-align: middle;\n",
       "    }\n",
       "\n",
       "    .dataframe tbody tr th {\n",
       "        vertical-align: top;\n",
       "    }\n",
       "\n",
       "    .dataframe thead th {\n",
       "        text-align: right;\n",
       "    }\n",
       "</style>\n",
       "<table border=\"1\" class=\"dataframe\">\n",
       "  <thead>\n",
       "    <tr style=\"text-align: right;\">\n",
       "      <th></th>\n",
       "      <th>geometry</th>\n",
       "      <th>weight</th>\n",
       "      <th>time</th>\n",
       "    </tr>\n",
       "  </thead>\n",
       "  <tbody>\n",
       "    <tr>\n",
       "      <th>0</th>\n",
       "      <td>LINESTRING (127.36931 36.35856, 127.36414 36.3...</td>\n",
       "      <td>19</td>\n",
       "      <td>2019-12-24 09:00:00</td>\n",
       "    </tr>\n",
       "    <tr>\n",
       "      <th>1</th>\n",
       "      <td>LINESTRING (127.36414 36.35585, 127.35859 36.3...</td>\n",
       "      <td>31</td>\n",
       "      <td>2019-12-24 09:00:00</td>\n",
       "    </tr>\n",
       "    <tr>\n",
       "      <th>2</th>\n",
       "      <td>LINESTRING (127.35859 36.36023, 127.35248 36.3...</td>\n",
       "      <td>47</td>\n",
       "      <td>2019-12-24 09:00:00</td>\n",
       "    </tr>\n",
       "    <tr>\n",
       "      <th>3</th>\n",
       "      <td>LINESTRING (127.35248 36.35925, 127.34532 36.3...</td>\n",
       "      <td>48</td>\n",
       "      <td>2019-12-24 09:00:00</td>\n",
       "    </tr>\n",
       "    <tr>\n",
       "      <th>4</th>\n",
       "      <td>LINESTRING (127.34532 36.36143, 127.34556 36.3...</td>\n",
       "      <td>12</td>\n",
       "      <td>2019-12-24 09:00:00</td>\n",
       "    </tr>\n",
       "    <tr>\n",
       "      <th>...</th>\n",
       "      <td>...</td>\n",
       "      <td>...</td>\n",
       "      <td>...</td>\n",
       "    </tr>\n",
       "    <tr>\n",
       "      <th>230</th>\n",
       "      <td>LINESTRING (127.36832 36.36300, 127.36307 36.3...</td>\n",
       "      <td>1</td>\n",
       "      <td>2019-12-24 09:00:00</td>\n",
       "    </tr>\n",
       "    <tr>\n",
       "      <th>231</th>\n",
       "      <td>LINESTRING (127.33168 36.35782, 127.33750 36.3...</td>\n",
       "      <td>1</td>\n",
       "      <td>2019-12-24 09:00:00</td>\n",
       "    </tr>\n",
       "    <tr>\n",
       "      <th>232</th>\n",
       "      <td>LINESTRING (127.36769 36.33527, 127.34726 36.3...</td>\n",
       "      <td>1</td>\n",
       "      <td>2019-12-24 09:00:00</td>\n",
       "    </tr>\n",
       "    <tr>\n",
       "      <th>233</th>\n",
       "      <td>LINESTRING (127.34726 36.33218, 127.35802 36.3...</td>\n",
       "      <td>1</td>\n",
       "      <td>2019-12-24 09:00:00</td>\n",
       "    </tr>\n",
       "    <tr>\n",
       "      <th>234</th>\n",
       "      <td>LINESTRING (127.35046 36.33210, 127.34921 36.3...</td>\n",
       "      <td>1</td>\n",
       "      <td>2019-12-24 09:00:00</td>\n",
       "    </tr>\n",
       "  </tbody>\n",
       "</table>\n",
       "<p>235 rows × 3 columns</p>\n",
       "</div>"
      ],
      "text/plain": [
       "                                              geometry  weight  \\\n",
       "0    LINESTRING (127.36931 36.35856, 127.36414 36.3...      19   \n",
       "1    LINESTRING (127.36414 36.35585, 127.35859 36.3...      31   \n",
       "2    LINESTRING (127.35859 36.36023, 127.35248 36.3...      47   \n",
       "3    LINESTRING (127.35248 36.35925, 127.34532 36.3...      48   \n",
       "4    LINESTRING (127.34532 36.36143, 127.34556 36.3...      12   \n",
       "..                                                 ...     ...   \n",
       "230  LINESTRING (127.36832 36.36300, 127.36307 36.3...       1   \n",
       "231  LINESTRING (127.33168 36.35782, 127.33750 36.3...       1   \n",
       "232  LINESTRING (127.36769 36.33527, 127.34726 36.3...       1   \n",
       "233  LINESTRING (127.34726 36.33218, 127.35802 36.3...       1   \n",
       "234  LINESTRING (127.35046 36.33210, 127.34921 36.3...       1   \n",
       "\n",
       "                    time  \n",
       "0    2019-12-24 09:00:00  \n",
       "1    2019-12-24 09:00:00  \n",
       "2    2019-12-24 09:00:00  \n",
       "3    2019-12-24 09:00:00  \n",
       "4    2019-12-24 09:00:00  \n",
       "..                   ...  \n",
       "230  2019-12-24 09:00:00  \n",
       "231  2019-12-24 09:00:00  \n",
       "232  2019-12-24 09:00:00  \n",
       "233  2019-12-24 09:00:00  \n",
       "234  2019-12-24 09:00:00  \n",
       "\n",
       "[235 rows x 3 columns]"
      ]
     },
     "execution_count": 29,
     "metadata": {},
     "output_type": "execute_result"
    }
   ],
   "source": [
    "flows_0809"
   ]
  },
  {
   "cell_type": "code",
   "execution_count": 30,
   "id": "9c1edfcb",
   "metadata": {},
   "outputs": [],
   "source": [
    "flows = pd.concat([flows_0001, flows_0102, flows_0203, flows_0304, flows_0405, flows_0506, flows_0607,\n",
    "                     flows_0708, flows_0809, flows_0910, flows_1011, flows_1112, flows_1213, flows_1314, \n",
    "                     flows_1415, flows_1516, flows_1617, flows_1718,flows_1819, flows_1920, flows_2021, \n",
    "                     flows_2122, flows_2223,flows_2324])"
   ]
  },
  {
   "cell_type": "code",
   "execution_count": 31,
   "id": "ab7c291a",
   "metadata": {},
   "outputs": [
    {
     "data": {
      "text/html": [
       "<div>\n",
       "<style scoped>\n",
       "    .dataframe tbody tr th:only-of-type {\n",
       "        vertical-align: middle;\n",
       "    }\n",
       "\n",
       "    .dataframe tbody tr th {\n",
       "        vertical-align: top;\n",
       "    }\n",
       "\n",
       "    .dataframe thead th {\n",
       "        text-align: right;\n",
       "    }\n",
       "</style>\n",
       "<table border=\"1\" class=\"dataframe\">\n",
       "  <thead>\n",
       "    <tr style=\"text-align: right;\">\n",
       "      <th></th>\n",
       "      <th>geometry</th>\n",
       "      <th>weight</th>\n",
       "      <th>time</th>\n",
       "    </tr>\n",
       "  </thead>\n",
       "  <tbody>\n",
       "    <tr>\n",
       "      <th>0</th>\n",
       "      <td>LINESTRING (127.34352 36.35854, 127.33806 36.3...</td>\n",
       "      <td>27</td>\n",
       "      <td>2019-12-24 01:00:00</td>\n",
       "    </tr>\n",
       "    <tr>\n",
       "      <th>1</th>\n",
       "      <td>LINESTRING (127.33806 36.36370, 127.33329 36.3...</td>\n",
       "      <td>188</td>\n",
       "      <td>2019-12-24 01:00:00</td>\n",
       "    </tr>\n",
       "    <tr>\n",
       "      <th>2</th>\n",
       "      <td>LINESTRING (127.33329 36.36604, 127.33936 36.3...</td>\n",
       "      <td>12</td>\n",
       "      <td>2019-12-24 01:00:00</td>\n",
       "    </tr>\n",
       "    <tr>\n",
       "      <th>3</th>\n",
       "      <td>LINESTRING (127.33936 36.36781, 127.33806 36.3...</td>\n",
       "      <td>79</td>\n",
       "      <td>2019-12-24 01:00:00</td>\n",
       "    </tr>\n",
       "    <tr>\n",
       "      <th>4</th>\n",
       "      <td>LINESTRING (127.33806 36.36370, 127.34434 36.3...</td>\n",
       "      <td>170</td>\n",
       "      <td>2019-12-24 01:00:00</td>\n",
       "    </tr>\n",
       "  </tbody>\n",
       "</table>\n",
       "</div>"
      ],
      "text/plain": [
       "                                            geometry  weight  \\\n",
       "0  LINESTRING (127.34352 36.35854, 127.33806 36.3...      27   \n",
       "1  LINESTRING (127.33806 36.36370, 127.33329 36.3...     188   \n",
       "2  LINESTRING (127.33329 36.36604, 127.33936 36.3...      12   \n",
       "3  LINESTRING (127.33936 36.36781, 127.33806 36.3...      79   \n",
       "4  LINESTRING (127.33806 36.36370, 127.34434 36.3...     170   \n",
       "\n",
       "                  time  \n",
       "0  2019-12-24 01:00:00  \n",
       "1  2019-12-24 01:00:00  \n",
       "2  2019-12-24 01:00:00  \n",
       "3  2019-12-24 01:00:00  \n",
       "4  2019-12-24 01:00:00  "
      ]
     },
     "execution_count": 31,
     "metadata": {},
     "output_type": "execute_result"
    }
   ],
   "source": [
    "flows.head()"
   ]
  },
  {
   "cell_type": "code",
   "execution_count": 32,
   "id": "a6f28ee4",
   "metadata": {},
   "outputs": [],
   "source": [
    "flows.to_csv('flows_191224.csv')"
   ]
  },
  {
   "cell_type": "markdown",
   "id": "15f3bb37",
   "metadata": {},
   "source": [
    "시간대별로 DTG 차량의 주행 경로를 확인하면 전체적인 흐름을 파악할 수는 있지만,    \n",
    "**주행 경로가 겹치게 되는 구간이 존재할 때 flow가 중첩되어 차량의 이동경로(방향)를 자세히 확인할 수 없는 단점이 있음.** \n",
    "  \n",
    "flows 데이터 프레임에 있는 geometry(before(lat, long) > after (lat, long) 컬럼으로 시간대별 차량이동 흐름 시각화를 진행해 해당 시간에 트래픽이 몰리는 지점의 포인트와 방향을 파악할 수 있도록 하는 것이 목적"
   ]
  },
  {
   "cell_type": "code",
   "execution_count": null,
   "id": "1dc78ffc",
   "metadata": {},
   "outputs": [],
   "source": []
  }
 ],
 "metadata": {
  "kernelspec": {
   "display_name": "Python 3 (ipykernel)",
   "language": "python",
   "name": "python3"
  },
  "language_info": {
   "codemirror_mode": {
    "name": "ipython",
    "version": 3
   },
   "file_extension": ".py",
   "mimetype": "text/x-python",
   "name": "python",
   "nbconvert_exporter": "python",
   "pygments_lexer": "ipython3",
   "version": "3.9.9"
  }
 },
 "nbformat": 4,
 "nbformat_minor": 5
}
