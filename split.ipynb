{
 "cells": [
  {
   "cell_type": "code",
   "execution_count": 1,
   "id": "22505b3b",
   "metadata": {},
   "outputs": [],
   "source": [
    "import pandas as pd\n",
    "import numpy as np"
   ]
  },
  {
   "cell_type": "code",
   "execution_count": 2,
   "id": "460a2b95",
   "metadata": {},
   "outputs": [],
   "source": [
    "clusters_191223 = pd.read_csv('clusters_191223.csv')\n",
    "flows_191223 = pd.read_csv('flows_191223.csv')\n",
    "\n",
    "clusters_191224 = pd.read_csv('clusters_191224.csv')\n",
    "flows_191224 = pd.read_csv('flows_191224.csv')\n",
    "\n",
    "clusters_191225 = pd.read_csv('clusters_191225.csv')\n",
    "flows_191225 = pd.read_csv('flows_191225.csv')\n",
    "\n",
    "clusters_191226 = pd.read_csv('clusters_191226.csv')\n",
    "flows_191226 = pd.read_csv('flows_191226.csv')\n",
    "\n",
    "clusters_191227 = pd.read_csv('clusters_191227.csv')\n",
    "flows_191227 = pd.read_csv('flows_191227.csv')\n",
    "\n",
    "clusters_191228 = pd.read_csv('clusters_191228.csv')\n",
    "flows_191228 = pd.read_csv('flows_191228.csv')\n",
    "\n",
    "clusters_191229 = pd.read_csv('clusters_191229.csv')\n",
    "flows_191229 = pd.read_csv('flows_191229.csv')"
   ]
  },
  {
   "cell_type": "markdown",
   "id": "276dfbae",
   "metadata": {},
   "source": [
    "#### clusters"
   ]
  },
  {
   "cell_type": "code",
   "execution_count": 3,
   "id": "cc642454",
   "metadata": {},
   "outputs": [
    {
     "data": {
      "text/html": [
       "<div>\n",
       "<style scoped>\n",
       "    .dataframe tbody tr th:only-of-type {\n",
       "        vertical-align: middle;\n",
       "    }\n",
       "\n",
       "    .dataframe tbody tr th {\n",
       "        vertical-align: top;\n",
       "    }\n",
       "\n",
       "    .dataframe thead th {\n",
       "        text-align: right;\n",
       "    }\n",
       "</style>\n",
       "<table border=\"1\" class=\"dataframe\">\n",
       "  <thead>\n",
       "    <tr style=\"text-align: right;\">\n",
       "      <th></th>\n",
       "      <th>Unnamed: 0</th>\n",
       "      <th>geometry</th>\n",
       "      <th>n</th>\n",
       "    </tr>\n",
       "  </thead>\n",
       "  <tbody>\n",
       "    <tr>\n",
       "      <th>0</th>\n",
       "      <td>0</td>\n",
       "      <td>POINT (127.32670174084504 36.36723066197182)</td>\n",
       "      <td>351</td>\n",
       "    </tr>\n",
       "    <tr>\n",
       "      <th>1</th>\n",
       "      <td>1</td>\n",
       "      <td>POINT (127.36947489873414 36.343736841772134)</td>\n",
       "      <td>159</td>\n",
       "    </tr>\n",
       "    <tr>\n",
       "      <th>2</th>\n",
       "      <td>2</td>\n",
       "      <td>POINT (127.33373394163424 36.365855482490254)</td>\n",
       "      <td>246</td>\n",
       "    </tr>\n",
       "    <tr>\n",
       "      <th>3</th>\n",
       "      <td>3</td>\n",
       "      <td>POINT (127.33806547619051 36.3630397698413)</td>\n",
       "      <td>504</td>\n",
       "    </tr>\n",
       "    <tr>\n",
       "      <th>4</th>\n",
       "      <td>4</td>\n",
       "      <td>POINT (127.33718494252874 36.35645603065132)</td>\n",
       "      <td>278</td>\n",
       "    </tr>\n",
       "  </tbody>\n",
       "</table>\n",
       "</div>"
      ],
      "text/plain": [
       "   Unnamed: 0                                       geometry    n\n",
       "0           0   POINT (127.32670174084504 36.36723066197182)  351\n",
       "1           1  POINT (127.36947489873414 36.343736841772134)  159\n",
       "2           2  POINT (127.33373394163424 36.365855482490254)  246\n",
       "3           3    POINT (127.33806547619051 36.3630397698413)  504\n",
       "4           4   POINT (127.33718494252874 36.35645603065132)  278"
      ]
     },
     "execution_count": 3,
     "metadata": {},
     "output_type": "execute_result"
    }
   ],
   "source": [
    "clusters_191223.head()"
   ]
  },
  {
   "cell_type": "code",
   "execution_count": 4,
   "id": "89d9936c",
   "metadata": {},
   "outputs": [
    {
     "data": {
      "text/plain": [
       "Index(['Unnamed: 0', 'geometry', 'n'], dtype='object')"
      ]
     },
     "execution_count": 4,
     "metadata": {},
     "output_type": "execute_result"
    }
   ],
   "source": [
    "clusters_191223.columns"
   ]
  },
  {
   "cell_type": "code",
   "execution_count": 5,
   "id": "fb3f803d",
   "metadata": {
    "scrolled": true
   },
   "outputs": [],
   "source": [
    "clusters_191223.drop(['Unnamed: 0'], axis=1, inplace=True)"
   ]
  },
  {
   "cell_type": "code",
   "execution_count": 6,
   "id": "0b5ee8b1",
   "metadata": {
    "scrolled": true
   },
   "outputs": [],
   "source": [
    "clusters_191223['id'] = [x.replace('POINT (' , '').replace(')' , '') for x in clusters_191223.geometry]\n",
    "clusters_191224['id'] = [x.replace('POINT (' , '').replace(')' , '') for x in clusters_191224.geometry]\n",
    "clusters_191225['id'] = [x.replace('POINT (' , '').replace(')' , '') for x in clusters_191225.geometry]\n",
    "clusters_191226['id'] = [x.replace('POINT (' , '').replace(')' , '') for x in clusters_191226.geometry]\n",
    "clusters_191227['id'] = [x.replace('POINT (' , '').replace(')' , '') for x in clusters_191227.geometry]\n",
    "clusters_191228['id'] = [x.replace('POINT (' , '').replace(')' , '') for x in clusters_191228.geometry]\n",
    "clusters_191229['id'] = [x.replace('POINT (' , '').replace(')' , '') for x in clusters_191229.geometry]"
   ]
  },
  {
   "cell_type": "code",
   "execution_count": 7,
   "id": "0c9299cc",
   "metadata": {},
   "outputs": [],
   "source": [
    "clusters_191223['lat'] = [x.split(' ')[1] for x in clusters_191223.id]\n",
    "clusters_191223['long'] = [x.split(' ')[0] for x in clusters_191223.id]\n",
    "\n",
    "clusters_191224['lat'] = [x.split(' ')[1] for x in clusters_191224.id]\n",
    "clusters_191224['long'] = [x.split(' ')[0] for x in clusters_191224.id]\n",
    "\n",
    "clusters_191225['lat'] = [x.split(' ')[1] for x in clusters_191225.id]\n",
    "clusters_191225['long'] = [x.split(' ')[0] for x in clusters_191225.id]\n",
    "\n",
    "clusters_191226['lat'] = [x.split(' ')[1] for x in clusters_191226.id]\n",
    "clusters_191226['long'] = [x.split(' ')[0] for x in clusters_191226.id]\n",
    "\n",
    "clusters_191227['lat'] = [x.split(' ')[1] for x in clusters_191227.id]\n",
    "clusters_191227['long'] = [x.split(' ')[0] for x in clusters_191227.id]\n",
    "\n",
    "clusters_191228['lat'] = [x.split(' ')[1] for x in clusters_191228.id]\n",
    "clusters_191228['long'] = [x.split(' ')[0] for x in clusters_191228.id]\n",
    "\n",
    "clusters_191229['lat'] = [x.split(' ')[1] for x in clusters_191229.id]\n",
    "clusters_191229['long'] = [x.split(' ')[0] for x in clusters_191229.id]"
   ]
  },
  {
   "cell_type": "code",
   "execution_count": 8,
   "id": "0db98949",
   "metadata": {},
   "outputs": [],
   "source": [
    "clusters_concat =  pd.concat([clusters_191223, clusters_191224, clusters_191225, clusters_191226, clusters_191227, clusters_191228, clusters_191229])\n",
    "clusters_concat.to_csv('final/location_final.csv')"
   ]
  },
  {
   "cell_type": "markdown",
   "id": "cbad90af",
   "metadata": {},
   "source": [
    "### flows"
   ]
  },
  {
   "cell_type": "code",
   "execution_count": 9,
   "id": "a9534dee",
   "metadata": {},
   "outputs": [
    {
     "data": {
      "text/html": [
       "<div>\n",
       "<style scoped>\n",
       "    .dataframe tbody tr th:only-of-type {\n",
       "        vertical-align: middle;\n",
       "    }\n",
       "\n",
       "    .dataframe tbody tr th {\n",
       "        vertical-align: top;\n",
       "    }\n",
       "\n",
       "    .dataframe thead th {\n",
       "        text-align: right;\n",
       "    }\n",
       "</style>\n",
       "<table border=\"1\" class=\"dataframe\">\n",
       "  <thead>\n",
       "    <tr style=\"text-align: right;\">\n",
       "      <th></th>\n",
       "      <th>Unnamed: 0</th>\n",
       "      <th>geometry</th>\n",
       "      <th>weight</th>\n",
       "      <th>time</th>\n",
       "    </tr>\n",
       "  </thead>\n",
       "  <tbody>\n",
       "    <tr>\n",
       "      <th>0</th>\n",
       "      <td>0</td>\n",
       "      <td>LINESTRING (127.32670174084504 36.367230661971...</td>\n",
       "      <td>55</td>\n",
       "      <td>2019-12-23 01:00:00</td>\n",
       "    </tr>\n",
       "    <tr>\n",
       "      <th>1</th>\n",
       "      <td>1</td>\n",
       "      <td>LINESTRING (127.33373394163424 36.365855482490...</td>\n",
       "      <td>3</td>\n",
       "      <td>2019-12-23 01:00:00</td>\n",
       "    </tr>\n",
       "    <tr>\n",
       "      <th>2</th>\n",
       "      <td>2</td>\n",
       "      <td>LINESTRING (127.331243 36.361881, 127.33806547...</td>\n",
       "      <td>3</td>\n",
       "      <td>2019-12-23 01:00:00</td>\n",
       "    </tr>\n",
       "    <tr>\n",
       "      <th>3</th>\n",
       "      <td>3</td>\n",
       "      <td>LINESTRING (127.33806547619051 36.363039769841...</td>\n",
       "      <td>52</td>\n",
       "      <td>2019-12-23 01:00:00</td>\n",
       "    </tr>\n",
       "    <tr>\n",
       "      <th>4</th>\n",
       "      <td>4</td>\n",
       "      <td>LINESTRING (127.33718494252874 36.356456030651...</td>\n",
       "      <td>68</td>\n",
       "      <td>2019-12-23 01:00:00</td>\n",
       "    </tr>\n",
       "  </tbody>\n",
       "</table>\n",
       "</div>"
      ],
      "text/plain": [
       "   Unnamed: 0                                           geometry  weight  \\\n",
       "0           0  LINESTRING (127.32670174084504 36.367230661971...      55   \n",
       "1           1  LINESTRING (127.33373394163424 36.365855482490...       3   \n",
       "2           2  LINESTRING (127.331243 36.361881, 127.33806547...       3   \n",
       "3           3  LINESTRING (127.33806547619051 36.363039769841...      52   \n",
       "4           4  LINESTRING (127.33718494252874 36.356456030651...      68   \n",
       "\n",
       "                  time  \n",
       "0  2019-12-23 01:00:00  \n",
       "1  2019-12-23 01:00:00  \n",
       "2  2019-12-23 01:00:00  \n",
       "3  2019-12-23 01:00:00  \n",
       "4  2019-12-23 01:00:00  "
      ]
     },
     "execution_count": 9,
     "metadata": {},
     "output_type": "execute_result"
    }
   ],
   "source": [
    "flows_191223.head()"
   ]
  },
  {
   "cell_type": "code",
   "execution_count": 10,
   "id": "4e84b02f",
   "metadata": {},
   "outputs": [
    {
     "data": {
      "text/plain": [
       "Index(['Unnamed: 0', 'geometry', 'weight', 'time'], dtype='object')"
      ]
     },
     "execution_count": 10,
     "metadata": {},
     "output_type": "execute_result"
    }
   ],
   "source": [
    "flows_191223.columns"
   ]
  },
  {
   "cell_type": "code",
   "execution_count": 11,
   "id": "480a3aa9",
   "metadata": {},
   "outputs": [],
   "source": [
    "flows_191223.drop(['Unnamed: 0'], axis=1, inplace=True)\n",
    "flows_191224.drop(['Unnamed: 0'], axis=1, inplace=True)\n",
    "flows_191225.drop(['Unnamed: 0'], axis=1, inplace=True)\n",
    "flows_191226.drop(['Unnamed: 0'], axis=1, inplace=True)\n",
    "flows_191227.drop(['Unnamed: 0'], axis=1, inplace=True)\n",
    "flows_191228.drop(['Unnamed: 0'], axis=1, inplace=True)\n",
    "flows_191229.drop(['Unnamed: 0'], axis=1, inplace=True)"
   ]
  },
  {
   "cell_type": "code",
   "execution_count": 12,
   "id": "3d1e8bcb",
   "metadata": {},
   "outputs": [],
   "source": [
    "flows_191223['origin'] = [x.replace('LINESTRING (' , '').replace(')' , '').split(\",\")[0] for x in flows_191223['geometry']]\n",
    "flows_191223['dest'] = [x.replace('LINESTRING (' , '').replace(')' , '').split(\",\")[1] for x in flows_191223['geometry']]\n",
    "\n",
    "flows_191224['origin'] = [x.replace('LINESTRING (' , '').replace(')' , '').split(\",\")[0] for x in flows_191224['geometry']]\n",
    "flows_191224['dest'] = [x.replace('LINESTRING (' , '').replace(')' , '').split(\",\")[1] for x in flows_191224['geometry']]\n",
    "\n",
    "flows_191225['origin'] = [x.replace('LINESTRING (' , '').replace(')' , '').split(\",\")[0] for x in flows_191225['geometry']]\n",
    "flows_191225['dest'] = [x.replace('LINESTRING (' , '').replace(')' , '').split(\",\")[1] for x in flows_191225['geometry']]\n",
    "\n",
    "flows_191226['origin'] = [x.replace('LINESTRING (' , '').replace(')' , '').split(\",\")[0] for x in flows_191226['geometry']]\n",
    "flows_191226['dest'] = [x.replace('LINESTRING (' , '').replace(')' , '').split(\",\")[1] for x in flows_191226['geometry']]\n",
    "\n",
    "flows_191227['origin'] = [x.replace('LINESTRING (' , '').replace(')' , '').split(\",\")[0] for x in flows_191227['geometry']]\n",
    "flows_191227['dest'] = [x.replace('LINESTRING (' , '').replace(')' , '').split(\",\")[1] for x in flows_191227['geometry']]\n",
    "\n",
    "flows_191228['origin'] = [x.replace('LINESTRING (' , '').replace(')' , '').split(\",\")[0] for x in flows_191228['geometry']]\n",
    "flows_191228['dest'] = [x.replace('LINESTRING (' , '').replace(')' , '').split(\",\")[1] for x in flows_191228['geometry']]\n",
    "\n",
    "flows_191229['origin'] = [x.replace('LINESTRING (' , '').replace(')' , '').split(\",\")[0] for x in flows_191229['geometry']]\n",
    "flows_191229['dest'] = [x.replace('LINESTRING (' , '').replace(')' , '').split(\",\")[1] for x in flows_191229['geometry']]"
   ]
  },
  {
   "cell_type": "code",
   "execution_count": 13,
   "id": "4c4107a7",
   "metadata": {},
   "outputs": [
    {
     "data": {
      "text/html": [
       "<div>\n",
       "<style scoped>\n",
       "    .dataframe tbody tr th:only-of-type {\n",
       "        vertical-align: middle;\n",
       "    }\n",
       "\n",
       "    .dataframe tbody tr th {\n",
       "        vertical-align: top;\n",
       "    }\n",
       "\n",
       "    .dataframe thead th {\n",
       "        text-align: right;\n",
       "    }\n",
       "</style>\n",
       "<table border=\"1\" class=\"dataframe\">\n",
       "  <thead>\n",
       "    <tr style=\"text-align: right;\">\n",
       "      <th></th>\n",
       "      <th>geometry</th>\n",
       "      <th>weight</th>\n",
       "      <th>time</th>\n",
       "      <th>origin</th>\n",
       "      <th>dest</th>\n",
       "    </tr>\n",
       "  </thead>\n",
       "  <tbody>\n",
       "    <tr>\n",
       "      <th>0</th>\n",
       "      <td>LINESTRING (127.32670174084504 36.367230661971...</td>\n",
       "      <td>55</td>\n",
       "      <td>2019-12-23 01:00:00</td>\n",
       "      <td>127.32670174084504 36.36723066197182</td>\n",
       "      <td>127.33373394163424 36.365855482490254</td>\n",
       "    </tr>\n",
       "    <tr>\n",
       "      <th>1</th>\n",
       "      <td>LINESTRING (127.33373394163424 36.365855482490...</td>\n",
       "      <td>3</td>\n",
       "      <td>2019-12-23 01:00:00</td>\n",
       "      <td>127.33373394163424 36.365855482490254</td>\n",
       "      <td>127.331243 36.361881</td>\n",
       "    </tr>\n",
       "    <tr>\n",
       "      <th>2</th>\n",
       "      <td>LINESTRING (127.331243 36.361881, 127.33806547...</td>\n",
       "      <td>3</td>\n",
       "      <td>2019-12-23 01:00:00</td>\n",
       "      <td>127.331243 36.361881</td>\n",
       "      <td>127.33806547619051 36.3630397698413</td>\n",
       "    </tr>\n",
       "    <tr>\n",
       "      <th>3</th>\n",
       "      <td>LINESTRING (127.33806547619051 36.363039769841...</td>\n",
       "      <td>52</td>\n",
       "      <td>2019-12-23 01:00:00</td>\n",
       "      <td>127.33806547619051 36.3630397698413</td>\n",
       "      <td>127.33718494252874 36.35645603065132</td>\n",
       "    </tr>\n",
       "    <tr>\n",
       "      <th>4</th>\n",
       "      <td>LINESTRING (127.33718494252874 36.356456030651...</td>\n",
       "      <td>68</td>\n",
       "      <td>2019-12-23 01:00:00</td>\n",
       "      <td>127.33718494252874 36.35645603065132</td>\n",
       "      <td>127.34069466666668 36.35413744444444</td>\n",
       "    </tr>\n",
       "  </tbody>\n",
       "</table>\n",
       "</div>"
      ],
      "text/plain": [
       "                                            geometry  weight  \\\n",
       "0  LINESTRING (127.32670174084504 36.367230661971...      55   \n",
       "1  LINESTRING (127.33373394163424 36.365855482490...       3   \n",
       "2  LINESTRING (127.331243 36.361881, 127.33806547...       3   \n",
       "3  LINESTRING (127.33806547619051 36.363039769841...      52   \n",
       "4  LINESTRING (127.33718494252874 36.356456030651...      68   \n",
       "\n",
       "                  time                                 origin  \\\n",
       "0  2019-12-23 01:00:00   127.32670174084504 36.36723066197182   \n",
       "1  2019-12-23 01:00:00  127.33373394163424 36.365855482490254   \n",
       "2  2019-12-23 01:00:00                   127.331243 36.361881   \n",
       "3  2019-12-23 01:00:00    127.33806547619051 36.3630397698413   \n",
       "4  2019-12-23 01:00:00   127.33718494252874 36.35645603065132   \n",
       "\n",
       "                                     dest  \n",
       "0   127.33373394163424 36.365855482490254  \n",
       "1                    127.331243 36.361881  \n",
       "2     127.33806547619051 36.3630397698413  \n",
       "3    127.33718494252874 36.35645603065132  \n",
       "4    127.34069466666668 36.35413744444444  "
      ]
     },
     "execution_count": 13,
     "metadata": {},
     "output_type": "execute_result"
    }
   ],
   "source": [
    "flows_191223.head()"
   ]
  },
  {
   "cell_type": "code",
   "execution_count": 14,
   "id": "06fe7c74",
   "metadata": {},
   "outputs": [],
   "source": [
    "flows_concat = pd.concat([flows_191223, flows_191224, flows_191225, flows_191226, flows_191227, flows_191228, flows_191229])"
   ]
  },
  {
   "cell_type": "code",
   "execution_count": 15,
   "id": "2b63c8f4",
   "metadata": {},
   "outputs": [],
   "source": [
    "flows_concat.to_csv('final/flows_final.csv')"
   ]
  },
  {
   "cell_type": "code",
   "execution_count": null,
   "id": "55f2ae3b",
   "metadata": {},
   "outputs": [],
   "source": []
  }
 ],
 "metadata": {
  "kernelspec": {
   "display_name": "Python 3 (ipykernel)",
   "language": "python",
   "name": "python3"
  },
  "language_info": {
   "codemirror_mode": {
    "name": "ipython",
    "version": 3
   },
   "file_extension": ".py",
   "mimetype": "text/x-python",
   "name": "python",
   "nbconvert_exporter": "python",
   "pygments_lexer": "ipython3",
   "version": "3.9.9"
  }
 },
 "nbformat": 4,
 "nbformat_minor": 5
}
